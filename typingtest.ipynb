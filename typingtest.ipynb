{
 "cells": [
  {
   "cell_type": "code",
   "execution_count": 4,
   "metadata": {
    "collapsed": false
   },
   "outputs": [
    {
     "name": "stdout",
     "output_type": "stream",
     "text": [
      "type this \n",
      "\n",
      " sct7aivucblknacqwcydivu qwvfuvbwq wcdyvqoubwin;mxl',;xs68rcvxuobinmxxqwxq\n",
      "write hereaXXAS\n"
     ]
    }
   ],
   "source": [
    "fo=open(\"saguya\"+\".txt\",'r') \n",
    "data=fo.read()\n",
    "print(\"type this \\n\")\n",
    "print(data)\n",
    "fo.close()\n",
    "c=input(\"write here\")\n",
    "fo=open(\"mytypingtest.txt\",'w')\n",
    "fo.write(c)\n",
    "fo.close()\n",
    "\n",
    "\n",
    "\n"
   ]
  },
  {
   "cell_type": "code",
   "execution_count": null,
   "metadata": {
    "collapsed": true
   },
   "outputs": [],
   "source": []
  }
 ],
 "metadata": {
  "anaconda-cloud": {},
  "kernelspec": {
   "display_name": "Python [default]",
   "language": "python",
   "name": "python3"
  },
  "language_info": {
   "codemirror_mode": {
    "name": "ipython",
    "version": 3
   },
   "file_extension": ".py",
   "mimetype": "text/x-python",
   "name": "python",
   "nbconvert_exporter": "python",
   "pygments_lexer": "ipython3",
   "version": "3.5.2"
  }
 },
 "nbformat": 4,
 "nbformat_minor": 1
}
